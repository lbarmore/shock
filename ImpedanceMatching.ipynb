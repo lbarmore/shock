{
 "cells": [
  {
   "cell_type": "code",
   "execution_count": 2,
   "metadata": {},
   "outputs": [
    {
     "name": "stdout",
     "output_type": "stream",
     "text": [
      "{'vproj': 1.979, 'vproj_err': 0.006, 'pin1': [-2.81, -9.472, 0], 'pin2': [-6.204, 6.69, 0], 'pin3': [9.486, 1.91, 0], 'pin4': [0, 0, 0], 't1': 18.321, 't2': 18.32724, 't3': 18.33564, 't4': 18.61148, 'rho_0': 2.708, 'rho_0_err': 0.001, 'rho_0_imp': 8.944, 'rho_0_imp_err': 0.003, 'U_s': 7.2488, 'U_s_err': 0.0007}\n"
     ]
    }
   ],
   "source": [
    "import numpy as np\n",
    "import json\n",
    "\n",
    "datafile = r\"Z:\\shot_data\\19-615.txt\"\n",
    "\n",
    "with open(datafile) as f:\n",
    "    data = json.load(f)\n",
    "\n",
    "#locals function unpacks dictionary keys into local variables.\n",
    "print(data)\n",
    "locals().update(data)\n",
    "\n",
    "#copper Us-up fit values, do not change\n",
    "C_Cu = 3.970\n",
    "S_Cu = 1.479\n"
   ]
  },
  {
   "cell_type": "code",
   "execution_count": 3,
   "metadata": {},
   "outputs": [],
   "source": [
    "#doing impedance matching correctly this time...\n",
    "#For each shot, use rho_0 and U_s to be slope of P-up line for TPX, then use determined copper P-up line\n",
    "#find intersection, that is P and up value\n",
    "\n",
    "def intersect(rho_0, U_s, rho_0_imp, C_Cu, S_Cu, vproj):\n",
    "    slope = rho_0 * U_s\n",
    "    a = rho_0_imp*S_Cu\n",
    "    b = -rho_0_imp*C_Cu -2*rho_0_imp*S_Cu*vproj\n",
    "    c = rho_0_imp*C_Cu*vproj + rho_0_imp*S_Cu*vproj**2\n",
    "\n",
    "    #Find intersection of line and parabola - use substitution and then quadratic equation to solve\n",
    "    d = b-slope\n",
    "    x1 = (-d + np.sqrt(d**2 - 4*a*c))/(2*a)\n",
    "    x2 = (-d - np.sqrt(d**2 - 4*a*c))/(2*a)\n",
    "\n",
    "    # choose correct (realistic) u_p value and plug into tpx equation to get P\n",
    "\n",
    "    P1 = slope*x1\n",
    "    P2 = slope*x2\n",
    "    return x1, P1, x2, P2"
   ]
  },
  {
   "cell_type": "code",
   "execution_count": 4,
   "metadata": {},
   "outputs": [],
   "source": [
    "#l = [x1, P1, x2, P2]\n",
    "#[i if i>0 else None for i in l]\n",
    "\n",
    "def positive(x, P):\n",
    "    if x >= 0 and P >= 0:\n",
    "        return True\n",
    "    else:\n",
    "        return False\n",
    "   "
   ]
  },
  {
   "cell_type": "code",
   "execution_count": 5,
   "metadata": {
    "scrolled": true
   },
   "outputs": [
    {
     "name": "stdout",
     "output_type": "stream",
     "text": [
      "Two intersections:\n",
      " up = 6.761263883015255 and P = 132.7219224121243\n",
      " up = 1.3649170060203935 and P = 26.792980144895623\n"
     ]
    }
   ],
   "source": [
    "x1, P1, x2, P2 = intersect(rho_0, U_s, rho_0_imp, C_Cu, S_Cu, vproj)\n",
    "if positive(x2, P2)==True and positive(x1, P1)==True:\n",
    "    print(\"Two intersections:\\n up = \" + str(x1) + \" and P = \" + str(P1) + \"\\n up = \" + str(x2) + \" and P = \" + str(P2))\n",
    "elif positive(x1, P1)==True:\n",
    "    print(\"up = \" + str(x1) + \" and P = \" + str(P1))\n",
    "elif positive(x2, P2)==True:\n",
    "    print(\"up = \" + str(x2) + \" and P = \" + str(P2))\n",
    "elif positive(x2, P2)==False and positive(x1, P1)==False:\n",
    "    print(\"no intersection\")\n",
    "else:\n",
    "    print(\"error\")"
   ]
  },
  {
   "cell_type": "code",
   "execution_count": 15,
   "metadata": {},
   "outputs": [
    {
     "name": "stdout",
     "output_type": "stream",
     "text": [
      "Impedance matching results: \n",
      " up = 1.3649 (km/s) \n",
      " P = 26.7930 (GPa) \n",
      " rho = 3.3362 (g/cc)\n"
     ]
    }
   ],
   "source": [
    "#choose which of the intersections above is reasonable (if more than one exists)\n",
    "up = x2\n",
    "P = P2\n",
    "\n",
    "#calculate density in shocked state\n",
    "shocked_density = (rho_0*U_s) / (U_s-up)\n",
    "print(\"Impedance matching results: \\n up = \" + str(format(up, '.4f')) + \" (km/s) \\n P = \"+str(format(P, '.4f'))+\" (GPa) \\n rho = \"+str(format(shocked_density, '.4f'))+\" (g/cc)\")"
   ]
  },
  {
   "cell_type": "code",
   "execution_count": 14,
   "metadata": {},
   "outputs": [
    {
     "name": "stdout",
     "output_type": "stream",
     "text": [
      "Mean P: 26.7927\n",
      "P Standard deviation: 0.1032\n",
      "Mean up: 1.3649\n",
      "up Standard deviation: 0.0052\n",
      "Mean rho_1: 3.3362\n",
      "Rho Standard deviation: 0.0032\n",
      "\n"
     ]
    }
   ],
   "source": [
    "#Monte carlo to get errors\n",
    "import itertools\n",
    "\n",
    "#from Knudson alpha quartz paper, do not change\n",
    "C_err = np.sqrt(2.9250*10**-4)\n",
    "S_err = np.sqrt(5.0020*10**-4)\n",
    "CS_err = 3.7920*10**-4 #correlation\n",
    "r = CS_err/(C_err*S_err) #correlation coefficient\n",
    "\n",
    "\n",
    "\n",
    "def monte(U_s, U_s_err, vproj, vproj_err):\n",
    "    for _ in itertools.repeat(None, 100000):\n",
    "        z1 = np.random.normal(0, 1, 1) #mean 0, stdev 1, 1 value\n",
    "        z2 = np.random.normal(0, 1, 1)\n",
    "\n",
    "        C_ = np.random.normal(C_Cu, C_err)\n",
    "        S_ = np.random.normal(S_Cu, S_err)\n",
    "\n",
    "        C_1 = C_ + C_err*(r*z2 + (z1*np.sqrt(1-r**2)))\n",
    "        S_1 = S_ + S_err*z2\n",
    "        #now C_1 and S_1 take correlation and variability into account. Use these in the rest of the calculation.\n",
    "\n",
    "        rhozero = np.random.normal(rho_0, rho_0_err)\n",
    "        shockspeed = np.random.normal(U_s, U_s_err)\n",
    "        rhozeroimp = np.random.normal(rho_0_imp, rho_0_imp_err)\n",
    "        projvelocity = np.random.normal(vproj, vproj_err)\n",
    "        \n",
    "        #solve equations with randomized values\n",
    "        x1, P1, x2, P2 = intersect(rhozero, shockspeed, rhozeroimp, C_1, S_1, projvelocity)\n",
    "        \n",
    "    \n",
    "        Ps.append(P2)\n",
    "        ups.append(x2)\n",
    "        \n",
    "        rho_1_ = (rhozero*shockspeed)/(shockspeed - x2)\n",
    "        rhos.append(rho_1_)\n",
    "\n",
    "        \n",
    "\n",
    "\n",
    "Ps = []\n",
    "ups = []\n",
    "rhos = []\n",
    "\n",
    "monte(U_s, U_s_err, vproj, vproj_err)\n",
    "print(\"Mean P: \" + str(format(np.mean(Ps), '.4f')) + \"\\nP Standard deviation: \" + str(format(np.std(Ps), '.4f')))\n",
    "print(\"Mean up: \" + str(format(np.mean(ups), '.4f')) + \"\\nup Standard deviation: \" + str(format(np.std(ups), '.4f')))\n",
    "print(\"Mean rho_1: \" + str(format(np.mean(rhos), '.4f')) + \"\\nRho Standard deviation: \" + str(format(np.std(rhos), '.4f')) + \"\\n\")"
   ]
  },
  {
   "cell_type": "code",
   "execution_count": null,
   "metadata": {},
   "outputs": [],
   "source": []
  }
 ],
 "metadata": {
  "kernelspec": {
   "display_name": "Python 3",
   "language": "python",
   "name": "python3"
  },
  "language_info": {
   "codemirror_mode": {
    "name": "ipython",
    "version": 3
   },
   "file_extension": ".py",
   "mimetype": "text/x-python",
   "name": "python",
   "nbconvert_exporter": "python",
   "pygments_lexer": "ipython3",
   "version": "3.6.4"
  }
 },
 "nbformat": 4,
 "nbformat_minor": 2
}
