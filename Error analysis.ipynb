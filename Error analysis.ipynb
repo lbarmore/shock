{
 "cells": [
  {
   "cell_type": "code",
   "execution_count": 7,
   "metadata": {},
   "outputs": [],
   "source": [
    "import numpy as np\n",
    "\n",
    "rho_0 = .8309 # g/cc\n",
    "rho_0_err = .0007\n",
    "\n",
    "U_s = 7.039 # km/s\n",
    "U_s_err = .001\n",
    "\n",
    "u_p = 3.2165 # km/s, actual\n",
    "u_p_err = .004 #estimated\n",
    "\n",
    "u_apparent = 3.234\n",
    "u_app_err = .008 #estimated\n",
    "\n",
    "n_0 = 1.462 #ambient index of refraction\n",
    "n_0_err = .0005 #assumed\n",
    "\n",
    "\n",
    "\n",
    "C_L = 6.715646 #lagrangian sound speed\n",
    "C_L_err = .05\n",
    "\n",
    "\n",
    "\n"
   ]
  },
  {
   "cell_type": "code",
   "execution_count": 8,
   "metadata": {},
   "outputs": [
    {
     "name": "stdout",
     "output_type": "stream",
     "text": [
      "18.812359954149997\n",
      "0.02838380517326691\n"
     ]
    }
   ],
   "source": [
    "#pressure\n",
    "P = rho_0*U_s*u_p\n",
    "\n",
    "P_err = np.sqrt((U_s*u_p*rho_0_err)**2 + (rho_0*u_p*U_s_err)**2 + (rho_0*U_s*u_p_err)**2)\n",
    "\n",
    "print(P)\n",
    "print(P_err)"
   ]
  },
  {
   "cell_type": "code",
   "execution_count": 9,
   "metadata": {},
   "outputs": [
    {
     "name": "stdout",
     "output_type": "stream",
     "text": [
      "1.530073276651406\n",
      "0.0025475140054271534\n"
     ]
    }
   ],
   "source": [
    "#shocked density\n",
    "rho_1 = (rho_0*U_s)/(U_s - u_p)\n",
    "\n",
    "pd_1 = U_s/(U_s - u_p) #partial deriv w/rt rho_0\n",
    "pd_2 = ((U_s - u_p)*rho_0 + (rho_0*U_s*u_p))/((U_s - u_p)**2) # \" w/rt U_s\n",
    "pd_3 = (rho_0*U_s)/((U_s - u_p)**2) # \" w/rt u_p\n",
    "\n",
    "rho_1_err = np.sqrt((pd_1*rho_0_err)**2 + (pd_2*U_s_err)**2 + (pd_3*u_p_err)**2)\n",
    "\n",
    "print(rho_1)\n",
    "print(rho_1_err)"
   ]
  },
  {
   "cell_type": "code",
   "execution_count": 10,
   "metadata": {},
   "outputs": [
    {
     "name": "stdout",
     "output_type": "stream",
     "text": [
      "1.8414650098103336\n",
      "0.0019395076789241485\n"
     ]
    }
   ],
   "source": [
    "#density compression ratio\n",
    "rho_ratio = U_s/(U_s - u_p) # rho_1/rho_0\n",
    "\n",
    "rho_ratio_err = ((u_p*U_s)/((U_s - u_p)**2))*np.sqrt((U_s_err/U_s)**2 + (u_p_err/u_p)**2)\n",
    "\n",
    "print(rho_ratio)\n",
    "print(rho_ratio_err)"
   ]
  },
  {
   "cell_type": "code",
   "execution_count": 11,
   "metadata": {},
   "outputs": [
    {
     "name": "stdout",
     "output_type": "stream",
     "text": [
      "1.8461786788750816\n",
      "0.002995033232098009\n",
      "\n",
      "\n",
      "1.0054406964091405\n",
      "0.0027687154240700258\n"
     ]
    }
   ],
   "source": [
    "#index of refraction and window correction\n",
    "\n",
    "n = (u_apparent - n_0*U_s)/(u_p - U_s)\n",
    "a = u_apparent/u_p #window correction\n",
    "\n",
    "a_err = np.sqrt((u_app_err/u_apparent)**2 + (u_p_err/u_p)**2)\n",
    "\n",
    "n1 = 1/(u_p - U_s)\n",
    "n2 = U_s/(u_p - U_s)\n",
    "n3 = (U_s*n_0 - u_apparent)/(u_p - U_s)**2\n",
    "n4 = (u_apparent - n_0*u_p)/(u_p - U_s)**2\n",
    "\n",
    "n_err = np.sqrt((u_app_err*n1)**2 + (n_0_err*n2)**2 + (u_p_err*n3)**2 + (U_s_err*n4)**2)\n",
    "\n",
    "print(n)\n",
    "print(n_err)\n",
    "print(\"\\n\")\n",
    "print(a)\n",
    "print(a_err)"
   ]
  },
  {
   "cell_type": "code",
   "execution_count": 31,
   "metadata": {},
   "outputs": [
    {
     "name": "stdout",
     "output_type": "stream",
     "text": [
      "5.524507131237054\n",
      "0.007459518831058562\n"
     ]
    }
   ],
   "source": [
    "#Eulerian sound speed\n",
    "C_E = C_L/rho_ratio\n",
    "C_E_err = np.sqrt((C_L_err/C_L)**2 + (rho_ratio_err/rho_ratio)**2)\n",
    "\n",
    "print(C_E)\n",
    "print(C_E_err)"
   ]
  },
  {
   "cell_type": "code",
   "execution_count": 8,
   "metadata": {},
   "outputs": [
    {
     "name": "stdout",
     "output_type": "stream",
     "text": [
      "Mean P: 10.1438\n",
      "P Standard deviation: 0.0194\n",
      "Mean rho: 1.3660\n",
      "Rho Standard deviation: 0.0035\n"
     ]
    },
    {
     "data": {
      "text/plain": [
       "'\\nplt.hist2d(rhos, Ps, bins=100, norm=colors.LogNorm())\\nplt.xlabel(r\"$\\rho_1$\")\\nplt.ylabel(\"P\")\\nplt.show()\\n'"
      ]
     },
     "execution_count": 8,
     "metadata": {},
     "output_type": "execute_result"
    }
   ],
   "source": [
    "import matplotlib.pyplot as plt\n",
    "from matplotlib import colors\n",
    "import itertools\n",
    "\n",
    "Ps = []\n",
    "rhos = []\n",
    "\n",
    "\n",
    "def monte():\n",
    "    for _ in itertools.repeat(None, 100000):\n",
    "        P_ = np.random.normal(rho_0, rho_0_err)*np.random.normal(U_s, U_s_err)*np.random.normal(u_p, u_p_err)\n",
    "        Ps.append(P_)\n",
    "        \n",
    "        rho_1_ = (np.random.normal(rho_0, rho_0_err)*np.random.normal(U_s, U_s_err))/(np.random.normal(U_s, U_s_err) - np.random.normal(u_p, u_p_err))\n",
    "        rhos.append(rho_1_)\n",
    "       \n",
    "        \n",
    "monte()\n",
    "print(\"Mean P: \" + str(format(np.mean(Ps), '.4f')) + \"\\nP Standard deviation: \" + str(format(np.std(Ps), '.4f')))\n",
    "print(\"Mean rho: \" + str(format(np.mean(rhos), '.4f')) + \"\\nRho Standard deviation: \" + str(format(np.std(rhos), '.4f')))\n",
    "\n",
    "\"\"\"\n",
    "plt.hist2d(rhos, Ps, bins=100, norm=colors.LogNorm())\n",
    "plt.xlabel(r\"$\\rho_1$\")\n",
    "plt.ylabel(\"P\")\n",
    "plt.show()\n",
    "\"\"\""
   ]
  },
  {
   "cell_type": "code",
   "execution_count": 14,
   "metadata": {},
   "outputs": [
    {
     "name": "stderr",
     "output_type": "stream",
     "text": [
      "C:\\Users\\lauren.barmore\\AppData\\Local\\Continuum\\anaconda3\\lib\\site-packages\\scipy\\optimize\\minpack.py:161: RuntimeWarning: The iteration is not making good progress, as measured by the \n",
      "  improvement from the last ten iterations.\n",
      "  warnings.warn(msg, RuntimeWarning)\n"
     ]
    },
    {
     "name": "stdout",
     "output_type": "stream",
     "text": [
      "Mean P: 18.7042\n",
      "P Standard deviation: 0.0141\n",
      "Mean up: 3.2001\n",
      "up Standard deviation: 0.0024\n",
      "Mean rho_1: 1.5235\n",
      "Rho Standard deviation: 0.0017\n"
     ]
    }
   ],
   "source": [
    "#Monte Carlo error for impedance matching\n",
    "import matplotlib.pyplot as plt\n",
    "from matplotlib import colors\n",
    "import itertools\n",
    "from scipy.optimize import fsolve\n",
    "import math\n",
    "\n",
    "#enter TPX values in top cell, then adjust these if needed (only density and v_proj should need adjusting)\n",
    "\n",
    "Ps = []\n",
    "ups = []\n",
    "rhos = []\n",
    "\n",
    "rho_0_Cu = 8.935\n",
    "rho_0_Cu_err = .002\n",
    "v_proj = 3.670\n",
    "v_proj_err = .0025\n",
    "\n",
    "#do not change these values, they're from Marcus's alpha quartz paper\n",
    "C = 3.970\n",
    "C_err = np.sqrt(2.9250*10**-4)\n",
    "S = 1.479\n",
    "S_err = np.sqrt(5.0020*10**-4)\n",
    "CS_err = 3.7920*10**-4 #correlation\n",
    "r = CS_err/(C_err*S_err) #correlation coefficient\n",
    "\n",
    "#run once before starting monte carlo so that the values aren't undefined.\n",
    "z1 = np.random.normal(0, 1, 1) #mean 0, stdev 1, 1 value\n",
    "z2 = np.random.normal(0, 1, 1)\n",
    "C_ = np.random.normal(C, C_err)\n",
    "S_ = np.random.normal(S, S_err)\n",
    "C_1 = C_ + C_err*(r*z2 + (z1*np.sqrt(1-r**2)))\n",
    "S_1 = S_ + S_err*z2\n",
    "rhozero = np.random.normal(rho_0, rho_0_err)\n",
    "shockspeed = np.random.normal(U_s, U_s_err)\n",
    "rhozeroCu = np.random.normal(rho_0_Cu, rho_0_Cu_err)\n",
    "\n",
    "\n",
    "\n",
    "def equations(q):\n",
    "    u_, P_ = q\n",
    "    #enter equations, solved for zero\n",
    "    return (rhozero*shockspeed*u_ - P_, rhozeroCu*(C_1*(np.random.normal(v_proj, v_proj_err) - u_) + S_1*(np.random.normal(v_proj, v_proj_err) - u_)**2) - P_)\n",
    "\n",
    "\n",
    "\n",
    "def monte():\n",
    "    for _ in itertools.repeat(None, 1000000):\n",
    "        z1 = np.random.normal(0, 1, 1) #mean 0, stdev 1, 1 value\n",
    "        z2 = np.random.normal(0, 1, 1)\n",
    "\n",
    "        C_ = np.random.normal(C, C_err)\n",
    "        S_ = np.random.normal(S, S_err)\n",
    "\n",
    "        C_1 = C_ + C_err*(r*z2 + (z1*np.sqrt(1-r**2)))\n",
    "        S_1 = S_ + S_err*z2\n",
    "        #now C_1 and S_1 take correlation and variability into account. Use these in the rest of the calculation.\n",
    "\n",
    "        rhozero = np.random.normal(rho_0, rho_0_err)\n",
    "        shockspeed = np.random.normal(U_s, U_s_err)\n",
    "        rhozeroCu = np.random.normal(rho_0_Cu, rho_0_Cu_err)\n",
    "        \n",
    "        u_, P_ =  fsolve(equations, (3.2, 18.7)) #guesses\n",
    "        Ps.append(P_)\n",
    "        ups.append(u_)\n",
    "        \n",
    "        rho_1_ = (np.random.normal(rho_0, rho_0_err)*np.random.normal(U_s, U_s_err))/(np.random.normal(U_s, U_s_err) - u_)\n",
    "        rhos.append(rho_1_)\n",
    "\n",
    "monte()\n",
    "print(\"Mean P: \" + str(format(np.mean(Ps), '.4f')) + \"\\nP Standard deviation: \" + str(format(np.std(Ps), '.4f')))\n",
    "print(\"Mean up: \" + str(format(np.mean(ups), '.4f')) + \"\\nup Standard deviation: \" + str(format(np.std(ups), '.4f')))\n",
    "print(\"Mean rho_1: \" + str(format(np.mean(rhos), '.4f')) + \"\\nRho Standard deviation: \" + str(format(np.std(rhos), '.4f')))\n",
    "\n"
   ]
  },
  {
   "cell_type": "code",
   "execution_count": 8,
   "metadata": {},
   "outputs": [
    {
     "name": "stdout",
     "output_type": "stream",
     "text": [
      "3.2107637082870437 8.088059546445425\n",
      "18.77208324303728\n"
     ]
    }
   ],
   "source": [
    "#impedance matching exact calculation (not including covariance matrix elements)\n",
    "#THIS IS NOT CORRECT DO NOT USE. USE calculator in TPX Paper Calculations file instead\n",
    "def impedance_match(rho_0_TPX, Us, rho_0_Cu, v_proj, C_TPX, S_TPX, C_Cu, S_Cu):\n",
    "    #solve quadratic equation for up\n",
    "    a = rho_0_TPX*S_TPX - rho_0_Cu*S_Cu\n",
    "    b = rho_0_TPX*C_TPX + rho_0_Cu*C_Cu + 2*rho_0_Cu*S_Cu*v_proj\n",
    "    c = -rho_0_Cu*C_Cu*v_proj - rho_0_Cu*S_Cu*v_proj**2\n",
    "    \n",
    "    up1 = (-b + np.sqrt(b**2 - 4*a*c))/(2*a)\n",
    "    up2 = (-b - np.sqrt(b**2 - 4*a*c))/(2*a)\n",
    "    \n",
    "    return up1, up2\n",
    "\n",
    "def find_P(rho_0_TPX, Us, up):\n",
    "    #solve RH jump condition for P\n",
    "    P = rho_0_TPX*Us*up\n",
    "    return P\n",
    "\n",
    "#TPX C, S values from linear fit to my data, others from shot 18-2s19\n",
    "up_1, up_2 = impedance_match(.8306,7.03902,8.935,3.670, 1.942968,1.622787,3.970,1.479)\n",
    "print(up_1, up_2)\n",
    "\n",
    "P_1 = find_P(.8306, 7.03902, up_1)\n",
    "print(P_1)\n"
   ]
  },
  {
   "cell_type": "code",
   "execution_count": null,
   "metadata": {},
   "outputs": [],
   "source": []
  }
 ],
 "metadata": {
  "kernelspec": {
   "display_name": "Python 3",
   "language": "python",
   "name": "python3"
  },
  "language_info": {
   "codemirror_mode": {
    "name": "ipython",
    "version": 3
   },
   "file_extension": ".py",
   "mimetype": "text/x-python",
   "name": "python",
   "nbconvert_exporter": "python",
   "pygments_lexer": "ipython3",
   "version": "3.6.4"
  }
 },
 "nbformat": 4,
 "nbformat_minor": 2
}
