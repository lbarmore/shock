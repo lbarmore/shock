{
 "cells": [
  {
   "cell_type": "code",
   "execution_count": 121,
   "metadata": {},
   "outputs": [
    {
     "name": "stdout",
     "output_type": "stream",
     "text": [
      "{'vproj': 1.9799, 'pin1': [-2.81, -9.472, 0], 'pin2': [-6.204, 6.69, 0], 'pin3': [9.486, 1.91, 0], 'pin4': [0, 0, 0], 't1': 18.321, 't2': 18.32724, 't3': 18.33564, 't4': 18.61148}\n"
     ]
    }
   ],
   "source": [
    "import numpy as np\n",
    "import json\n",
    "\"\"\"To use: Make text file with shot data including time of impact and location of each pin, and the projectile velocity\n",
    "in JSON format in shot_data folder (use -0.xx instea of -.xx). Update the code with your file path to shot data. Then run all cells\"\"\"\n",
    "#possibly try using pandas DataFrame instead? or np.genfromtxt. Both need to specify dtype\n",
    "#Calculate tilt\n",
    "#Assuming 4 pins\n",
    "#Pin locations (mm) and time of impact (us):\n",
    "\n",
    "datafile = r\"Z:\\shot_data\\19-615.txt\"\n",
    "\n",
    "with open(datafile) as f:\n",
    "    data = json.load(f)\n",
    "    \n",
    "#data is a dictionary. Can get individal values using data['vproj'], or data['pin1'][1] for data in list.\n",
    "#locals function unpacks dictionary keys into local variables.\n",
    "print(data)\n",
    "locals().update(data)\n",
    "\n",
    "pin1.append(t1)\n",
    "pin2.append(t2)\n",
    "pin3.append(t3)\n",
    "pin4.append(t4)\n",
    "#pins has the format [x,y,z,t]"
   ]
  },
  {
   "cell_type": "code",
   "execution_count": 122,
   "metadata": {},
   "outputs": [],
   "source": [
    "#define projectile plane with z' vectors (pinX[4])\n",
    "#pins [x,y,z,t,tz]\n",
    "pin1.append(t1*vproj)\n",
    "pin2.append(t2*vproj)\n",
    "pin3.append(t3*vproj)\n",
    "pin4.append(t4*vproj)\n",
    "\n",
    "#choose three pins (a,b,c = 1,2,3, or 4) to use to define the plane, d is the remaining pin\n",
    "def plane(a,b,c, d):\n",
    "    \"\"\"define a plane with 3 points by making 1 and 2 xyz vectors\"\"\"\n",
    "    #define first set of vectors\n",
    "    xv1 = a[0]-b[0]\n",
    "    yv1 = a[1]-b[1]\n",
    "    zv1 = a[4]-b[4]\n",
    "    \n",
    "    #second set\n",
    "    xv2 = a[0]-c[0]\n",
    "    yv2 = a[1]-c[1]\n",
    "    zv2 = a[4]-c[4]\n",
    "    \n",
    "    #surfaces\n",
    "    xx = yv1*zv2 - zv1*yv2\n",
    "    xy = zv1*xv2 - xv1*zv2\n",
    "    xz = xv1*yv2 - yv1*xv2\n",
    "    \n",
    "    #normal vector\n",
    "    norm = xz/np.sqrt(xx**2 + xy**2 + xz **2)\n",
    "    #norm is .99999\n",
    "    #if norm is negative, arccos(norm) = 180 instead of zero (180 degrees = 3141.59 mrad)\n",
    "\n",
    "    #line of contact angle (in degrees, clockwise from vertical, looking from back of the target towards the projectile)\n",
    "    phi = 360-np.degrees(np.arctan2(xy,xx))\n",
    "    \n",
    "    #tilt in radians\n",
    "    theta = np.abs(np.arccos(norm))\n",
    "    theta2 = np.arccos(np.abs(norm)) # I believe theta 2 is the more general case so use that.\n",
    "    \n",
    "    #tilt in mrad\n",
    "    theta_mrad = theta/10**-3\n",
    "    theta2_mrad = theta2/10**-3\n",
    "    \n",
    "    #velocity of line of contact in m/s\n",
    "    vc = (vproj/np.tan(theta2)) * 10**3\n",
    "    \n",
    "    #predicted impact time at final pin (d)\n",
    "    tfinal = (-xx*(d[0]-a[0]) - xy*(d[1]-a[1])+xz*a[4])/xz/vproj\n",
    "    \n",
    "    return theta2_mrad, phi, vc, tfinal, theta_mrad\n"
   ]
  },
  {
   "cell_type": "code",
   "execution_count": 123,
   "metadata": {},
   "outputs": [
    {
     "name": "stdout",
     "output_type": "stream",
     "text": [
      "(120.24510563628282, 466.46267131701376, 16386.10067595732, 19.21443118900325, 3021.3475479535105)\n"
     ]
    }
   ],
   "source": [
    "opt4 = plane(pin2,pin3,pin4, pin1) #center pin is pin1\n",
    "print(opt4)"
   ]
  },
  {
   "cell_type": "code",
   "execution_count": 124,
   "metadata": {},
   "outputs": [
    {
     "name": "stdout",
     "output_type": "stream",
     "text": [
      "(1.737736450853183, 322.6407226790445, 1139354.593216777, 18.32800504652078, 3139.85491713894)\n"
     ]
    }
   ],
   "source": [
    "opt1 = plane(pin1,pin2,pin3, pin4) #center pin is pin4\n",
    "print(opt1)"
   ]
  },
  {
   "cell_type": "code",
   "execution_count": 125,
   "metadata": {},
   "outputs": [
    {
     "name": "stdout",
     "output_type": "stream",
     "text": [
      "(120.48448330793936, 347.7862527643223, 16353.228633813107, 19.20312856179558, 3021.1081702818537)\n"
     ]
    }
   ],
   "source": [
    "opt2 = plane(pin1,pin2,pin4, pin3)\n",
    "print(opt2)"
   ]
  },
  {
   "cell_type": "code",
   "execution_count": 126,
   "metadata": {},
   "outputs": [
    {
     "name": "stdout",
     "output_type": "stream",
     "text": [
      "(110.70482976589439, 408.1023036813608, 17811.373969816468, 19.12366235039858, 110.70482976589439)\n"
     ]
    }
   ],
   "source": [
    "opt3 = plane(pin1,pin3,pin4, pin2)\n",
    "print(opt3)"
   ]
  },
  {
   "cell_type": "code",
   "execution_count": 7,
   "metadata": {},
   "outputs": [
    {
     "name": "stdout",
     "output_type": "stream",
     "text": [
      "843.6748084632467 1231.8691192833205 615.9345596416603\n"
     ]
    }
   ],
   "source": [
    "#uncertainty in tilt\n",
    "mean_tilt = sum([opt1[0],opt2[0], opt3[0], opt4[0]])/4\n",
    "stdev_tilt = np.sqrt(sum([(opt1[0]-mean_tilt)**2,(opt2[0]-mean_tilt)**2, (opt3[0]-mean_tilt)**2, (opt4[0]-mean_tilt)**2])/4)\n",
    "stderr_tilt = stdev_tilt/np.sqrt(4)\n",
    "print(mean_tilt, stdev_tilt, stderr_tilt)"
   ]
  },
  {
   "cell_type": "code",
   "execution_count": 8,
   "metadata": {},
   "outputs": [
    {
     "name": "stdout",
     "output_type": "stream",
     "text": [
      "0.05639927917957582 0.7537672769528122 0.3768836384764061\n"
     ]
    }
   ],
   "source": [
    "#uncertainty in phi\n",
    "mean_phi = sum([opt1[1],opt2[1], opt3[1], opt4[1]])/4\n",
    "stdev_phi = np.sqrt(sum([(opt1[1]-mean_phi)**2,(opt2[1]-mean_phi)**2, (opt3[1]-mean_phi)**2, (opt4[1]-mean_phi)**2])/4)\n",
    "stderr_phi = stdev_phi/np.sqrt(4)\n",
    "print(mean_phi, stdev_phi, stderr_phi)"
   ]
  },
  {
   "cell_type": "code",
   "execution_count": 54,
   "metadata": {},
   "outputs": [
    {
     "ename": "NameError",
     "evalue": "name 'opt1' is not defined",
     "output_type": "error",
     "traceback": [
      "\u001b[1;31m---------------------------------------------------------------------------\u001b[0m",
      "\u001b[1;31mNameError\u001b[0m                                 Traceback (most recent call last)",
      "\u001b[1;32m<ipython-input-54-b90ba515008d>\u001b[0m in \u001b[0;36m<module>\u001b[1;34m()\u001b[0m\n\u001b[0;32m      1\u001b[0m \u001b[1;31m#uncertainty in vc\u001b[0m\u001b[1;33m\u001b[0m\u001b[1;33m\u001b[0m\u001b[0m\n\u001b[1;32m----> 2\u001b[1;33m \u001b[0mmean_v\u001b[0m \u001b[1;33m=\u001b[0m \u001b[0msum\u001b[0m\u001b[1;33m(\u001b[0m\u001b[1;33m[\u001b[0m\u001b[0mopt1\u001b[0m\u001b[1;33m[\u001b[0m\u001b[1;36m2\u001b[0m\u001b[1;33m]\u001b[0m\u001b[1;33m,\u001b[0m\u001b[0mopt2\u001b[0m\u001b[1;33m[\u001b[0m\u001b[1;36m2\u001b[0m\u001b[1;33m]\u001b[0m\u001b[1;33m,\u001b[0m \u001b[0mopt3\u001b[0m\u001b[1;33m[\u001b[0m\u001b[1;36m2\u001b[0m\u001b[1;33m]\u001b[0m\u001b[1;33m,\u001b[0m \u001b[0mopt4\u001b[0m\u001b[1;33m[\u001b[0m\u001b[1;36m2\u001b[0m\u001b[1;33m]\u001b[0m\u001b[1;33m]\u001b[0m\u001b[1;33m)\u001b[0m\u001b[1;33m/\u001b[0m\u001b[1;36m4\u001b[0m\u001b[1;33m\u001b[0m\u001b[0m\n\u001b[0m\u001b[0;32m      3\u001b[0m \u001b[0mstdev_v\u001b[0m \u001b[1;33m=\u001b[0m \u001b[0mnp\u001b[0m\u001b[1;33m.\u001b[0m\u001b[0msqrt\u001b[0m\u001b[1;33m(\u001b[0m\u001b[0msum\u001b[0m\u001b[1;33m(\u001b[0m\u001b[1;33m[\u001b[0m\u001b[1;33m(\u001b[0m\u001b[0mopt1\u001b[0m\u001b[1;33m[\u001b[0m\u001b[1;36m2\u001b[0m\u001b[1;33m]\u001b[0m\u001b[1;33m-\u001b[0m\u001b[0mmean_v\u001b[0m\u001b[1;33m)\u001b[0m\u001b[1;33m**\u001b[0m\u001b[1;36m2\u001b[0m\u001b[1;33m,\u001b[0m\u001b[1;33m(\u001b[0m\u001b[0mopt2\u001b[0m\u001b[1;33m[\u001b[0m\u001b[1;36m2\u001b[0m\u001b[1;33m]\u001b[0m\u001b[1;33m-\u001b[0m\u001b[0mmean_v\u001b[0m\u001b[1;33m)\u001b[0m\u001b[1;33m**\u001b[0m\u001b[1;36m2\u001b[0m\u001b[1;33m,\u001b[0m \u001b[1;33m(\u001b[0m\u001b[0mopt3\u001b[0m\u001b[1;33m[\u001b[0m\u001b[1;36m2\u001b[0m\u001b[1;33m]\u001b[0m\u001b[1;33m-\u001b[0m\u001b[0mmean_v\u001b[0m\u001b[1;33m)\u001b[0m\u001b[1;33m**\u001b[0m\u001b[1;36m2\u001b[0m\u001b[1;33m,\u001b[0m \u001b[1;33m(\u001b[0m\u001b[0mopt4\u001b[0m\u001b[1;33m[\u001b[0m\u001b[1;36m2\u001b[0m\u001b[1;33m]\u001b[0m\u001b[1;33m-\u001b[0m\u001b[0mmean_v\u001b[0m\u001b[1;33m)\u001b[0m\u001b[1;33m**\u001b[0m\u001b[1;36m2\u001b[0m\u001b[1;33m]\u001b[0m\u001b[1;33m)\u001b[0m\u001b[1;33m/\u001b[0m\u001b[1;36m4\u001b[0m\u001b[1;33m)\u001b[0m\u001b[1;33m\u001b[0m\u001b[0m\n\u001b[0;32m      4\u001b[0m \u001b[0mstderr_v\u001b[0m \u001b[1;33m=\u001b[0m \u001b[0mstdev_v\u001b[0m\u001b[1;33m/\u001b[0m\u001b[0mnp\u001b[0m\u001b[1;33m.\u001b[0m\u001b[0msqrt\u001b[0m\u001b[1;33m(\u001b[0m\u001b[1;36m4\u001b[0m\u001b[1;33m)\u001b[0m\u001b[1;33m\u001b[0m\u001b[0m\n\u001b[0;32m      5\u001b[0m \u001b[0mprint\u001b[0m\u001b[1;33m(\u001b[0m\u001b[0mmean_v\u001b[0m\u001b[1;33m,\u001b[0m \u001b[0mstdev_v\u001b[0m\u001b[1;33m,\u001b[0m \u001b[0mstderr_v\u001b[0m\u001b[1;33m)\u001b[0m\u001b[1;33m\u001b[0m\u001b[0m\n",
      "\u001b[1;31mNameError\u001b[0m: name 'opt1' is not defined"
     ]
    }
   ],
   "source": [
    "#uncertainty in vc\n",
    "mean_v = sum([opt1[2],opt2[2], opt3[2], opt4[2]])/4\n",
    "stdev_v = np.sqrt(sum([(opt1[2]-mean_v)**2,(opt2[2]-mean_v)**2, (opt3[2]-mean_v)**2, (opt4[2]-mean_v)**2])/4)\n",
    "stderr_v = stdev_v/np.sqrt(4)\n",
    "print(mean_v, stdev_v, stderr_v)"
   ]
  },
  {
   "cell_type": "code",
   "execution_count": 7,
   "metadata": {},
   "outputs": [
    {
     "name": "stdout",
     "output_type": "stream",
     "text": [
      "Mean arrival time at center pin: 3.7687\n",
      "Standard deviation: 0.0006\n",
      "Calculation took 0.55 seconds.\n"
     ]
    },
    {
     "data": {
      "text/plain": [
       "<matplotlib.figure.Figure at 0x9127ee1630>"
      ]
     },
     "metadata": {},
     "output_type": "display_data"
    }
   ],
   "source": [
    "#Monte Carlo Uncertainty Analysis\n",
    "import itertools\n",
    "import time\n",
    "import matplotlib.pyplot as plt\n",
    "\n",
    "xy_uncert = .01\n",
    "t_uncert = .001\n",
    "arrival_times = []\n",
    "\n",
    "\n",
    "def monte():\n",
    "    for _ in itertools.repeat(None, 10000): # repeat N times, save randomly varied new pin, calculate tilt, save to list\n",
    "        pin2_ = [np.random.normal(pin2[0], xy_uncert), np.random.normal(pin2[1], xy_uncert), np.random.normal(pin2[2], xy_uncert), np.random.normal(pin2[3], t_uncert)] #(mu, sigma, # of points)\n",
    "        pin2_.append(pin2_[3]*vproj)\n",
    "        \n",
    "        pin3_ = [np.random.normal(pin3[0], xy_uncert), np.random.normal(pin3[1], xy_uncert), np.random.normal(pin3[2], xy_uncert), np.random.normal(pin3[3], t_uncert)]\n",
    "        pin3_.append(pin3_[3]*vproj)\n",
    "        \n",
    "        pin4_ = [np.random.normal(pin4[0], xy_uncert), np.random.normal(pin4[1], xy_uncert), np.random.normal(pin4[2], xy_uncert), np.random.normal(pin4[3], t_uncert)]\n",
    "        pin4_.append(pin4_[3]*vproj)\n",
    "        \n",
    "        pin1_ = [np.random.normal(pin1[0], xy_uncert), np.random.normal(pin1[1], xy_uncert), np.random.normal(pin1[2], xy_uncert), np.random.normal(pin1[3], t_uncert)]\n",
    "        pin1_.append(pin1_[3]*vproj)\n",
    "        \n",
    "        temp = plane(pin2_,pin3_,pin4_, pin1_)\n",
    "        arrival_times.append(temp[3]) #save arrival time at pin 1 to list\n",
    "        \n",
    "    \n",
    "start = time.perf_counter()        \n",
    "monte()\n",
    "stop=time.perf_counter()\n",
    "print(\"Mean arrival time at center pin: \" + str(format(np.mean(arrival_times), '.4f')) + \"\\nStandard deviation: \" + str(format(np.std(arrival_times), '.4f')))\n",
    "print(\"Calculation took \" + str(format(stop-start, '.2f')) + \" seconds.\")\n",
    "\n",
    "plt.hist(arrival_times, bins=100)\n",
    "plt.show()"
   ]
  },
  {
   "cell_type": "code",
   "execution_count": 27,
   "metadata": {},
   "outputs": [
    {
     "data": {
      "text/plain": [
       "'\\n#Find LOC velocity: define a target and projectile plane and find the distance from the line of intersection (line of contact) to a pin\\ni = [b[0]-a[0],b[1]-a[1],b[2]-a[2]]\\nj = [c[0]-a[0],c[1]-a[1],c[2]-a[2]]\\ntargetnorm = np.cross(i,j) #array of three numbers xyz\\ntargetnorm = targetnorm.tolist() #list of xyz\\nt = targetnorm + [-targetnorm[0]*a[0]-targetnorm[1]*a[1]-targetnorm[2]*a[2]] # ax+by+cz+d=0,where d=-(ax0+by0+cz0)\\n\\n#plane of height of projectile above target at time 0\\nk = [b[0]-a[0],b[1]-a[1],b[4]-a[4]]\\nl = [c[0]-a[0],c[1]-a[1],c[4]-a[4]]\\nprojectnorm = np.cross(k,l) #array of three numbers xyz\\nprojectnorm = projectnorm.tolist()\\np = projectnorm + [-projectnorm[0]*a[0]-projectnorm[1]*a[1]-projectnorm[2]*a[4]] # ax+by+cz+d=0,where d=-(ax0+by0+cz0)\\n\\ndvector = np.cross(targetnorm, projectnorm).tolist()\\n#find a point on both planes. Fix z=0, solve norm equations for x and y. Get line of intersection vector.\\nif t[0] >= -.00001 and t[0] <= .00001:\\n    zprime = -t[3]/t[2]\\n    yprime = ((p[2]*t[3]/t[2])-p[3])/p[1]\\n    xprime = 0\\n    LOIvector = [xprime,yprime,zprime]\\n    \\nelse:    \\n    x = ((p[1]*t[3]/t[1])-p[3])/(p[0]-(p[1]*t[0]/t[1]))\\n    y = (-t[3]-t[0]*x)/t[1]\\n    z = 0\\n    LOIvector = [x,y,z]\\n\\n#find shortest distance from line of intersection to the furthest away pin on target plane (whichever has max travel time)\\n#np.inner(a,b) returns a scalar\\ntimes = [a[3],b[3],c[3]]\\nlongesttime = max(times)\\nif times.index(longesttime) == 0:\\n    point = [a[0],a[1],a[2]]\\nelif times.index(longesttime) == 1:\\n    point = [b[0],b[1],b[2]]\\nelif times.index(longesttime) == 2:\\n    point = [c[0],c[1],c[2]]\\n\\ndist = np.subtract(LOIvector, point)\\ndsquared = ((np.inner(dist,dist)*np.inner(dvector,dvector)) - (np.inner(dist,dvector))**2)/(np.inner(dvector,dvector))\\n\\nd = np.sqrt(dsquared)\\nvelocity = d/longesttime #velocity of line of contact in mm/us\\nvelocity_ms = velocity*10**3\\n'"
      ]
     },
     "execution_count": 27,
     "metadata": {},
     "output_type": "execute_result"
    }
   ],
   "source": [
    "    \n",
    "    \"\"\"\n",
    "    #Find LOC velocity: define a target and projectile plane and find the distance from the line of intersection (line of contact) to a pin\n",
    "    i = [b[0]-a[0],b[1]-a[1],b[2]-a[2]]\n",
    "    j = [c[0]-a[0],c[1]-a[1],c[2]-a[2]]\n",
    "    targetnorm = np.cross(i,j) #array of three numbers xyz\n",
    "    targetnorm = targetnorm.tolist() #list of xyz\n",
    "    t = targetnorm + [-targetnorm[0]*a[0]-targetnorm[1]*a[1]-targetnorm[2]*a[2]] # ax+by+cz+d=0,where d=-(ax0+by0+cz0)\n",
    "    \n",
    "    #plane of height of projectile above target at time 0\n",
    "    k = [b[0]-a[0],b[1]-a[1],b[4]-a[4]]\n",
    "    l = [c[0]-a[0],c[1]-a[1],c[4]-a[4]]\n",
    "    projectnorm = np.cross(k,l) #array of three numbers xyz\n",
    "    projectnorm = projectnorm.tolist()\n",
    "    p = projectnorm + [-projectnorm[0]*a[0]-projectnorm[1]*a[1]-projectnorm[2]*a[4]] # ax+by+cz+d=0,where d=-(ax0+by0+cz0)\n",
    "    \n",
    "    dvector = np.cross(targetnorm, projectnorm).tolist()\n",
    "    #find a point on both planes. Fix z=0, solve norm equations for x and y. Get line of intersection vector.\n",
    "    if t[0] >= -.00001 and t[0] <= .00001:\n",
    "        zprime = -t[3]/t[2]\n",
    "        yprime = ((p[2]*t[3]/t[2])-p[3])/p[1]\n",
    "        xprime = 0\n",
    "        LOIvector = [xprime,yprime,zprime]\n",
    "        \n",
    "    else:    \n",
    "        x = ((p[1]*t[3]/t[1])-p[3])/(p[0]-(p[1]*t[0]/t[1]))\n",
    "        y = (-t[3]-t[0]*x)/t[1]\n",
    "        z = 0\n",
    "        LOIvector = [x,y,z]\n",
    "    \n",
    "    #find shortest distance from line of intersection to the furthest away pin on target plane (whichever has max travel time)\n",
    "    #np.inner(a,b) returns a scalar\n",
    "    times = [a[3],b[3],c[3]]\n",
    "    longesttime = max(times)\n",
    "    if times.index(longesttime) == 0:\n",
    "        point = [a[0],a[1],a[2]]\n",
    "    elif times.index(longesttime) == 1:\n",
    "        point = [b[0],b[1],b[2]]\n",
    "    elif times.index(longesttime) == 2:\n",
    "        point = [c[0],c[1],c[2]]\n",
    "    \n",
    "    dist = np.subtract(LOIvector, point)\n",
    "    dsquared = ((np.inner(dist,dist)*np.inner(dvector,dvector)) - (np.inner(dist,dvector))**2)/(np.inner(dvector,dvector))\n",
    "    \n",
    "    d = np.sqrt(dsquared)\n",
    "    velocity = d/longesttime #velocity of line of contact in mm/us\n",
    "    velocity_ms = velocity*10**3\n",
    "    \"\"\""
   ]
  },
  {
   "cell_type": "code",
   "execution_count": null,
   "metadata": {},
   "outputs": [],
   "source": []
  }
 ],
 "metadata": {
  "kernelspec": {
   "display_name": "Python 3",
   "language": "python",
   "name": "python3"
  },
  "language_info": {
   "codemirror_mode": {
    "name": "ipython",
    "version": 3
   },
   "file_extension": ".py",
   "mimetype": "text/x-python",
   "name": "python",
   "nbconvert_exporter": "python",
   "pygments_lexer": "ipython3",
   "version": "3.6.4"
  }
 },
 "nbformat": 4,
 "nbformat_minor": 1
}
